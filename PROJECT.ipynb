{
 "cells": [
  {
   "cell_type": "code",
   "execution_count": 5,
   "metadata": {},
   "outputs": [],
   "source": [
    "import os\n",
    "from pathlib import Path\n",
    "import pandas as pd\n",
    "import numpy as np\n",
    "import matplotlib.pyplot as plt\n",
    "import seaborn as sns\n",
    "%matplotlib inline\n",
    "import plotly.express as px\n",
    "import plotly.graph_objects as go"
   ]
  },
  {
   "cell_type": "code",
   "execution_count": 6,
   "metadata": {},
   "outputs": [
    {
     "data": {
      "text/plain": [
       "PosixPath('/Users/germanportes/Documents/general_assembly/projects/gpMidTerm')"
      ]
     },
     "execution_count": 6,
     "metadata": {},
     "output_type": "execute_result"
    }
   ],
   "source": [
    "home = Path.cwd()\n",
    "home"
   ]
  },
  {
   "cell_type": "code",
   "execution_count": 22,
   "metadata": {},
   "outputs": [
    {
     "data": {
      "text/plain": [
       "PosixPath('/Users/germanportes/Documents/general_assembly/projects/gpMidTerm/2018-09-01-2019-09-08.csv')"
      ]
     },
     "execution_count": 22,
     "metadata": {},
     "output_type": "execute_result"
    }
   ],
   "source": [
    "filepath = Path.joinpath(home.parent, 'gpMidTerm', '2018-09-01-2019-09-08.csv')\n",
    "filepath"
   ]
  },
  {
   "cell_type": "code",
   "execution_count": 10,
   "metadata": {},
   "outputs": [],
   "source": [
    "acled = pd.read_csv(filepath)"
   ]
  },
  {
   "cell_type": "code",
   "execution_count": 11,
   "metadata": {
    "scrolled": true
   },
   "outputs": [
    {
     "data": {
      "text/html": [
       "<div>\n",
       "<style scoped>\n",
       "    .dataframe tbody tr th:only-of-type {\n",
       "        vertical-align: middle;\n",
       "    }\n",
       "\n",
       "    .dataframe tbody tr th {\n",
       "        vertical-align: top;\n",
       "    }\n",
       "\n",
       "    .dataframe thead th {\n",
       "        text-align: right;\n",
       "    }\n",
       "</style>\n",
       "<table border=\"1\" class=\"dataframe\">\n",
       "  <thead>\n",
       "    <tr style=\"text-align: right;\">\n",
       "      <th></th>\n",
       "      <th>data_id</th>\n",
       "      <th>iso</th>\n",
       "      <th>event_id_cnty</th>\n",
       "      <th>event_id_no_cnty</th>\n",
       "      <th>event_date</th>\n",
       "      <th>year</th>\n",
       "      <th>time_precision</th>\n",
       "      <th>event_type</th>\n",
       "      <th>sub_event_type</th>\n",
       "      <th>actor1</th>\n",
       "      <th>...</th>\n",
       "      <th>location</th>\n",
       "      <th>latitude</th>\n",
       "      <th>longitude</th>\n",
       "      <th>geo_precision</th>\n",
       "      <th>source</th>\n",
       "      <th>source_scale</th>\n",
       "      <th>notes</th>\n",
       "      <th>fatalities</th>\n",
       "      <th>timestamp</th>\n",
       "      <th>iso3</th>\n",
       "    </tr>\n",
       "  </thead>\n",
       "  <tbody>\n",
       "    <tr>\n",
       "      <td>0</td>\n",
       "      <td>5727259</td>\n",
       "      <td>854</td>\n",
       "      <td>BFO1975</td>\n",
       "      <td>1975.0</td>\n",
       "      <td>31 August 2019</td>\n",
       "      <td>2019</td>\n",
       "      <td>1</td>\n",
       "      <td>Violence against civilians</td>\n",
       "      <td>Attack</td>\n",
       "      <td>Islamic State (Greater Sahara)</td>\n",
       "      <td>...</td>\n",
       "      <td>Bosseye-Etage</td>\n",
       "      <td>14.5743</td>\n",
       "      <td>-0.3004</td>\n",
       "      <td>1</td>\n",
       "      <td>Whatsapp</td>\n",
       "      <td>National</td>\n",
       "      <td>On August 31, suspected ISGS militants made an...</td>\n",
       "      <td>0</td>\n",
       "      <td>1567450156</td>\n",
       "      <td>BFA</td>\n",
       "    </tr>\n",
       "    <tr>\n",
       "      <td>1</td>\n",
       "      <td>5727284</td>\n",
       "      <td>120</td>\n",
       "      <td>CAO2490</td>\n",
       "      <td>2490.0</td>\n",
       "      <td>31 August 2019</td>\n",
       "      <td>2019</td>\n",
       "      <td>1</td>\n",
       "      <td>Violence against civilians</td>\n",
       "      <td>Abduction/forced disappearance</td>\n",
       "      <td>Ambazonian Separatists (Cameroon)</td>\n",
       "      <td>...</td>\n",
       "      <td>Ekona</td>\n",
       "      <td>5.0288</td>\n",
       "      <td>9.4924</td>\n",
       "      <td>1</td>\n",
       "      <td>Mimi Mefo</td>\n",
       "      <td>National</td>\n",
       "      <td>31 August. Ambazonian separatists abducted a M...</td>\n",
       "      <td>0</td>\n",
       "      <td>1567450156</td>\n",
       "      <td>CMR</td>\n",
       "    </tr>\n",
       "    <tr>\n",
       "      <td>2</td>\n",
       "      <td>5727328</td>\n",
       "      <td>180</td>\n",
       "      <td>DRC15400</td>\n",
       "      <td>15400.0</td>\n",
       "      <td>31 August 2019</td>\n",
       "      <td>2019</td>\n",
       "      <td>1</td>\n",
       "      <td>Strategic developments</td>\n",
       "      <td>Agreement</td>\n",
       "      <td>Mayi Mayi Militia (Raia Mutomboki)</td>\n",
       "      <td>...</td>\n",
       "      <td>Walikale</td>\n",
       "      <td>-1.4280</td>\n",
       "      <td>28.0730</td>\n",
       "      <td>1</td>\n",
       "      <td>7 Sur 7</td>\n",
       "      <td>National</td>\n",
       "      <td>On 31 August, in Walikale, 17 Mayi Mayi Raya M...</td>\n",
       "      <td>0</td>\n",
       "      <td>1567450156</td>\n",
       "      <td>COD</td>\n",
       "    </tr>\n",
       "    <tr>\n",
       "      <td>3</td>\n",
       "      <td>5727329</td>\n",
       "      <td>180</td>\n",
       "      <td>DRC15401</td>\n",
       "      <td>15401.0</td>\n",
       "      <td>31 August 2019</td>\n",
       "      <td>2019</td>\n",
       "      <td>1</td>\n",
       "      <td>Protests</td>\n",
       "      <td>Peaceful protest</td>\n",
       "      <td>Protesters (Democratic Republic of Congo)</td>\n",
       "      <td>...</td>\n",
       "      <td>Matadi</td>\n",
       "      <td>-5.8373</td>\n",
       "      <td>13.4500</td>\n",
       "      <td>1</td>\n",
       "      <td>Politico (DRC)</td>\n",
       "      <td>National</td>\n",
       "      <td>On 31 August, in Matadi, an unspecified number...</td>\n",
       "      <td>0</td>\n",
       "      <td>1567450156</td>\n",
       "      <td>COD</td>\n",
       "    </tr>\n",
       "    <tr>\n",
       "      <td>4</td>\n",
       "      <td>5727391</td>\n",
       "      <td>434</td>\n",
       "      <td>LBY8459</td>\n",
       "      <td>8459.0</td>\n",
       "      <td>31 August 2019</td>\n",
       "      <td>2019</td>\n",
       "      <td>1</td>\n",
       "      <td>Explosions/Remote violence</td>\n",
       "      <td>Shelling/artillery/missile attack</td>\n",
       "      <td>Military Forces of Libya (2014-) Haftar Faction</td>\n",
       "      <td>...</td>\n",
       "      <td>Mitiga Airport</td>\n",
       "      <td>32.8941</td>\n",
       "      <td>13.2760</td>\n",
       "      <td>1</td>\n",
       "      <td>Libya EN; Jamahiriya News Agency; Libya News A...</td>\n",
       "      <td>Other-National</td>\n",
       "      <td>On August 31, suspected LNA-aligned forces she...</td>\n",
       "      <td>0</td>\n",
       "      <td>1567450156</td>\n",
       "      <td>LBY</td>\n",
       "    </tr>\n",
       "  </tbody>\n",
       "</table>\n",
       "<p>5 rows × 31 columns</p>\n",
       "</div>"
      ],
      "text/plain": [
       "   data_id  iso event_id_cnty  event_id_no_cnty      event_date  year  \\\n",
       "0  5727259  854       BFO1975            1975.0  31 August 2019  2019   \n",
       "1  5727284  120       CAO2490            2490.0  31 August 2019  2019   \n",
       "2  5727328  180      DRC15400           15400.0  31 August 2019  2019   \n",
       "3  5727329  180      DRC15401           15401.0  31 August 2019  2019   \n",
       "4  5727391  434       LBY8459            8459.0  31 August 2019  2019   \n",
       "\n",
       "   time_precision                  event_type  \\\n",
       "0               1  Violence against civilians   \n",
       "1               1  Violence against civilians   \n",
       "2               1      Strategic developments   \n",
       "3               1                    Protests   \n",
       "4               1  Explosions/Remote violence   \n",
       "\n",
       "                      sub_event_type  \\\n",
       "0                             Attack   \n",
       "1     Abduction/forced disappearance   \n",
       "2                          Agreement   \n",
       "3                   Peaceful protest   \n",
       "4  Shelling/artillery/missile attack   \n",
       "\n",
       "                                            actor1  ...        location  \\\n",
       "0                   Islamic State (Greater Sahara)  ...   Bosseye-Etage   \n",
       "1                Ambazonian Separatists (Cameroon)  ...           Ekona   \n",
       "2               Mayi Mayi Militia (Raia Mutomboki)  ...        Walikale   \n",
       "3        Protesters (Democratic Republic of Congo)  ...          Matadi   \n",
       "4  Military Forces of Libya (2014-) Haftar Faction  ...  Mitiga Airport   \n",
       "\n",
       "   latitude longitude geo_precision  \\\n",
       "0   14.5743   -0.3004             1   \n",
       "1    5.0288    9.4924             1   \n",
       "2   -1.4280   28.0730             1   \n",
       "3   -5.8373   13.4500             1   \n",
       "4   32.8941   13.2760             1   \n",
       "\n",
       "                                              source    source_scale  \\\n",
       "0                                           Whatsapp        National   \n",
       "1                                          Mimi Mefo        National   \n",
       "2                                            7 Sur 7        National   \n",
       "3                                     Politico (DRC)        National   \n",
       "4  Libya EN; Jamahiriya News Agency; Libya News A...  Other-National   \n",
       "\n",
       "                                               notes fatalities   timestamp  \\\n",
       "0  On August 31, suspected ISGS militants made an...          0  1567450156   \n",
       "1  31 August. Ambazonian separatists abducted a M...          0  1567450156   \n",
       "2  On 31 August, in Walikale, 17 Mayi Mayi Raya M...          0  1567450156   \n",
       "3  On 31 August, in Matadi, an unspecified number...          0  1567450156   \n",
       "4  On August 31, suspected LNA-aligned forces she...          0  1567450156   \n",
       "\n",
       "  iso3  \n",
       "0  BFA  \n",
       "1  CMR  \n",
       "2  COD  \n",
       "3  COD  \n",
       "4  LBY  \n",
       "\n",
       "[5 rows x 31 columns]"
      ]
     },
     "execution_count": 11,
     "metadata": {},
     "output_type": "execute_result"
    }
   ],
   "source": [
    "acled.head(5)"
   ]
  },
  {
   "cell_type": "code",
   "execution_count": null,
   "metadata": {},
   "outputs": [],
   "source": [
    "acled.columns"
   ]
  },
  {
   "cell_type": "code",
   "execution_count": 12,
   "metadata": {},
   "outputs": [
    {
     "data": {
      "text/plain": [
       "(140153, 9)"
      ]
     },
     "execution_count": 12,
     "metadata": {},
     "output_type": "execute_result"
    }
   ],
   "source": [
    "acled = acled[['event_date', 'event_type', 'sub_event_type', 'actor1', 'location', 'country','region', 'notes', 'fatalities']]\n",
    "acled.dropna(how='any', inplace=True);\n",
    "acled.shape"
   ]
  },
  {
   "cell_type": "code",
   "execution_count": null,
   "metadata": {},
   "outputs": [],
   "source": [
    "acled.head()"
   ]
  },
  {
   "cell_type": "code",
   "execution_count": 13,
   "metadata": {},
   "outputs": [
    {
     "data": {
      "text/plain": [
       "Protests                      45662\n",
       "Explosions/Remote violence    33164\n",
       "Battles                       31356\n",
       "Violence against civilians    12009\n",
       "Riots                         11539\n",
       "Strategic developments         6423\n",
       "Name: event_type, dtype: int64"
      ]
     },
     "execution_count": 13,
     "metadata": {},
     "output_type": "execute_result"
    }
   ],
   "source": [
    "acled['event_type'].value_counts()"
   ]
  },
  {
   "cell_type": "code",
   "execution_count": 17,
   "metadata": {},
   "outputs": [
    {
     "data": {
      "text/plain": [
       "country\n",
       "India          1294\n",
       "Philippines     953\n",
       "Syria           672\n",
       "Nigeria         567\n",
       "Somalia         532\n",
       "Name: fatalities, dtype: int64"
      ]
     },
     "execution_count": 17,
     "metadata": {},
     "output_type": "execute_result"
    }
   ],
   "source": [
    "#acled.groupby(['actor1', 'event_type'])('country').count()\n",
    "acled_country=acled[acled['sub_event_type'] == 'Attack'].groupby('country')['fatalities'].count().sort_values(ascending=False).head()\n",
    "acled_country"
   ]
  },
  {
   "cell_type": "code",
   "execution_count": 21,
   "metadata": {
    "scrolled": true
   },
   "outputs": [
    {
     "name": "stdout",
     "output_type": "stream",
     "text": [
      "Fatalities by country based on sub_event_categories; attacks:\n",
      "country\n",
      "India          1294\n",
      "Philippines     953\n",
      "Syria           672\n",
      "Nigeria         567\n",
      "Somalia         532\n",
      "Name: fatalities, dtype: int64\n"
     ]
    },
    {
     "data": {
      "image/png": "[encoded data removed]",
      "text/plain": [
       "<Figure size 432x288 with 1 Axes>"
      ]
     },
     "metadata": {
      "needs_background": "light"
     },
     "output_type": "display_data"
    }
   ],
   "source": [
    "#acled_country.plot(kind='barh',stacked = True, colormap='summer')\n",
    "acled_country.plot(kind='barh',stacked = True,color=['black', 'red', 'green', 'blue', 'orange'])\n",
    "plt.title(\"Casualties by top 5 countries\\n last year(1 Sep 2018 - 1 Sep 2019 )\")\n",
    "print (\"Fatalities by country based on sub_event_categories; attacks:\\n\" +str(acled_country))\n",
    "plt.savefig(\"midterm.png\", dpi =300)"
   ]
  },
  {
   "cell_type": "code",
   "execution_count": null,
   "metadata": {},
   "outputs": [],
   "source": [
    "acledGroup = acled.groupby('country')\n",
    "\n",
    "for name,group in acledGroup:\n",
    "    print (name)\n",
    "    print (group)"
   ]
  },
  {
   "cell_type": "code",
   "execution_count": null,
   "metadata": {},
   "outputs": [],
   "source": [
    "acled['actor1'].value_counts()"
   ]
  },
  {
   "cell_type": "code",
   "execution_count": null,
   "metadata": {},
   "outputs": [],
   "source": [
    "acled['fatalities'].value_counts().sum()"
   ]
  },
  {
   "cell_type": "code",
   "execution_count": null,
   "metadata": {},
   "outputs": [],
   "source": [
    "#acled['Month'] = acled['event_date'].dt.month\n",
    "acled['event_date']=pd.to_datetime(acled['event_date'])"
   ]
  },
  {
   "cell_type": "code",
   "execution_count": null,
   "metadata": {},
   "outputs": [],
   "source": [
    "acled['Month'] = acled['event_date'].dt.month\n",
    "acled['year'] = acled['event_date'].dt.year\n",
    "acled['day'] = acled['event_date'].dt.dayofweek"
   ]
  },
  {
   "cell_type": "code",
   "execution_count": null,
   "metadata": {
    "scrolled": true
   },
   "outputs": [],
   "source": [
    "acled.head()"
   ]
  },
  {
   "cell_type": "code",
   "execution_count": null,
   "metadata": {},
   "outputs": [],
   "source": [
    "countries_fat=acled['fatalities'].value_counts('countries')"
   ]
  },
  {
   "cell_type": "code",
   "execution_count": null,
   "metadata": {},
   "outputs": [],
   "source": [
    "countries_fat"
   ]
  },
  {
   "cell_type": "code",
   "execution_count": null,
   "metadata": {},
   "outputs": [],
   "source": [
    "acled.plot(kind='scatter', x='Month', y='fatalities', c='year', colormap='jet')"
   ]
  },
  {
   "cell_type": "code",
   "execution_count": null,
   "metadata": {},
   "outputs": [],
   "source": [
    "fat_event_type = acled.groupby('country')['fatalities'].mean().sort_values(ascending=False)"
   ]
  },
  {
   "cell_type": "code",
   "execution_count": null,
   "metadata": {},
   "outputs": [],
   "source": [
    "fat_event_type.head()"
   ]
  },
  {
   "cell_type": "code",
   "execution_count": null,
   "metadata": {
    "scrolled": true
   },
   "outputs": [],
   "source": [
    "fat_event_type.plot(kind='bar')"
   ]
  },
  {
   "cell_type": "code",
   "execution_count": null,
   "metadata": {},
   "outputs": [],
   "source": [
    "fat_event_type = acled.groupby('country')['fatalities'].count().sort_values(ascending=False).head(5)"
   ]
  },
  {
   "cell_type": "code",
   "execution_count": null,
   "metadata": {},
   "outputs": [],
   "source": [
    "fat_event_type"
   ]
  },
  {
   "cell_type": "code",
   "execution_count": null,
   "metadata": {},
   "outputs": [],
   "source": [
    "fat_event_type.plot(kind='bar');\n"
   ]
  },
  {
   "cell_type": "code",
   "execution_count": null,
   "metadata": {},
   "outputs": [],
   "source": [
    "region_counts = acled['region'].value_counts()\n",
    "region_counts"
   ]
  },
  {
   "cell_type": "code",
   "execution_count": null,
   "metadata": {},
   "outputs": [],
   "source": [
    "region_counts.plot(kind = 'barh')"
   ]
  },
  {
   "cell_type": "code",
   "execution_count": null,
   "metadata": {},
   "outputs": [],
   "source": [
    "region_fatalities = acled.groupby('region')['fatalities'].count().sort_values(ascending=False).head(5)"
   ]
  },
  {
   "cell_type": "code",
   "execution_count": null,
   "metadata": {},
   "outputs": [],
   "source": [
    "region_fatalities.head()"
   ]
  },
  {
   "cell_type": "code",
   "execution_count": null,
   "metadata": {},
   "outputs": [],
   "source": [
    "region_fatalities.plot(kind='pie',stacked = True, colormap='viridis')\n",
    "plt.title(\"Casualties by top 5 regions\\n last year(1 Sep 2018 - 1 Sep 2019 )\")"
   ]
  },
  {
   "cell_type": "code",
   "execution_count": null,
   "metadata": {},
   "outputs": [],
   "source": [
    "region_fatalities.plot(kind= 'bar')"
   ]
  },
  {
   "cell_type": "code",
   "execution_count": null,
   "metadata": {
    "scrolled": true
   },
   "outputs": [],
   "source": [
    "fig = px.line(acled, x='Month', y='fatalities')\n",
    "fig.show()"
   ]
  },
  {
   "cell_type": "code",
   "execution_count": null,
   "metadata": {
    "scrolled": true
   },
   "outputs": [],
   "source": [
    "fig = go.Figure([go.Scatter(x=acled['day'], y=acled['fatalities'])])\n",
    "fig.update_layout(title_text='Fatalities by day of the week',\n",
    "                  xaxis_rangeslider_visible=True)\n",
    "fig.show()"
   ]
  },
  {
   "cell_type": "code",
   "execution_count": null,
   "metadata": {},
   "outputs": [],
   "source": []
  }
 ],
 "metadata": {
  "kernelspec": {
   "display_name": "Python 3",
   "language": "python",
   "name": "python3"
  },
  "language_info": {
   "codemirror_mode": {
    "name": "ipython",
    "version": 3
   },
   "file_extension": ".py",
   "mimetype": "text/x-python",
   "name": "python",
   "nbconvert_exporter": "python",
   "pygments_lexer": "ipython3",
   "version": "3.7.4"
  }
 },
 "nbformat": 4,
 "nbformat_minor": 2
}
